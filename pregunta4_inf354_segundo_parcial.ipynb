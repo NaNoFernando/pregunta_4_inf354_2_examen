{
 "cells": [
  {
   "cell_type": "code",
   "execution_count": 88,
   "metadata": {},
   "outputs": [],
   "source": [
    "import pandas as pd\n",
    "import numpy as np\n",
    "import matplotlib.pyplot as plt\n",
    "from sklearn import datasets\n",
    "from sklearn.feature_selection import RFE\n",
    "from sklearn.linear_model import LogisticRegression\n",
    "from sklearn import linear_model\n",
    "from sklearn.model_selection import train_test_split\n",
    "from sklearn.metrics import confusion_matrix"
   ]
  },
  {
   "cell_type": "code",
   "execution_count": 57,
   "metadata": {},
   "outputs": [
    {
     "data": {
      "text/html": [
       "<div>\n",
       "<style scoped>\n",
       "    .dataframe tbody tr th:only-of-type {\n",
       "        vertical-align: middle;\n",
       "    }\n",
       "\n",
       "    .dataframe tbody tr th {\n",
       "        vertical-align: top;\n",
       "    }\n",
       "\n",
       "    .dataframe thead th {\n",
       "        text-align: right;\n",
       "    }\n",
       "</style>\n",
       "<table border=\"1\" class=\"dataframe\">\n",
       "  <thead>\n",
       "    <tr style=\"text-align: right;\">\n",
       "      <th></th>\n",
       "      <th>Sector_score</th>\n",
       "      <th>LOCATION_ID</th>\n",
       "      <th>PARA_A</th>\n",
       "      <th>Score_A</th>\n",
       "      <th>Risk_A</th>\n",
       "      <th>PARA_B</th>\n",
       "      <th>Score_B</th>\n",
       "      <th>Risk_B</th>\n",
       "      <th>TOTAL</th>\n",
       "      <th>numbers</th>\n",
       "      <th>...</th>\n",
       "      <th>RiSk_E</th>\n",
       "      <th>History</th>\n",
       "      <th>Prob</th>\n",
       "      <th>Risk_F</th>\n",
       "      <th>Score</th>\n",
       "      <th>Inherent_Risk</th>\n",
       "      <th>CONTROL_RISK</th>\n",
       "      <th>Detection_Risk</th>\n",
       "      <th>Audit_Risk</th>\n",
       "      <th>Risk</th>\n",
       "    </tr>\n",
       "  </thead>\n",
       "  <tbody>\n",
       "    <tr>\n",
       "      <th>0</th>\n",
       "      <td>3.89</td>\n",
       "      <td>23</td>\n",
       "      <td>4.18</td>\n",
       "      <td>0.6</td>\n",
       "      <td>2.508</td>\n",
       "      <td>2.50</td>\n",
       "      <td>0.2</td>\n",
       "      <td>0.500</td>\n",
       "      <td>6.68</td>\n",
       "      <td>5.0</td>\n",
       "      <td>...</td>\n",
       "      <td>0.4</td>\n",
       "      <td>0</td>\n",
       "      <td>0.2</td>\n",
       "      <td>0.0</td>\n",
       "      <td>2.4</td>\n",
       "      <td>8.574</td>\n",
       "      <td>0.4</td>\n",
       "      <td>0.5</td>\n",
       "      <td>1.7148</td>\n",
       "      <td>1</td>\n",
       "    </tr>\n",
       "    <tr>\n",
       "      <th>1</th>\n",
       "      <td>3.89</td>\n",
       "      <td>6</td>\n",
       "      <td>0.00</td>\n",
       "      <td>0.2</td>\n",
       "      <td>0.000</td>\n",
       "      <td>4.83</td>\n",
       "      <td>0.2</td>\n",
       "      <td>0.966</td>\n",
       "      <td>4.83</td>\n",
       "      <td>5.0</td>\n",
       "      <td>...</td>\n",
       "      <td>0.4</td>\n",
       "      <td>0</td>\n",
       "      <td>0.2</td>\n",
       "      <td>0.0</td>\n",
       "      <td>2.0</td>\n",
       "      <td>2.554</td>\n",
       "      <td>0.4</td>\n",
       "      <td>0.5</td>\n",
       "      <td>0.5108</td>\n",
       "      <td>0</td>\n",
       "    </tr>\n",
       "    <tr>\n",
       "      <th>2</th>\n",
       "      <td>3.89</td>\n",
       "      <td>6</td>\n",
       "      <td>0.51</td>\n",
       "      <td>0.2</td>\n",
       "      <td>0.102</td>\n",
       "      <td>0.23</td>\n",
       "      <td>0.2</td>\n",
       "      <td>0.046</td>\n",
       "      <td>0.74</td>\n",
       "      <td>5.0</td>\n",
       "      <td>...</td>\n",
       "      <td>0.4</td>\n",
       "      <td>0</td>\n",
       "      <td>0.2</td>\n",
       "      <td>0.0</td>\n",
       "      <td>2.0</td>\n",
       "      <td>1.548</td>\n",
       "      <td>0.4</td>\n",
       "      <td>0.5</td>\n",
       "      <td>0.3096</td>\n",
       "      <td>0</td>\n",
       "    </tr>\n",
       "    <tr>\n",
       "      <th>3</th>\n",
       "      <td>3.89</td>\n",
       "      <td>6</td>\n",
       "      <td>0.00</td>\n",
       "      <td>0.2</td>\n",
       "      <td>0.000</td>\n",
       "      <td>10.80</td>\n",
       "      <td>0.6</td>\n",
       "      <td>6.480</td>\n",
       "      <td>10.80</td>\n",
       "      <td>6.0</td>\n",
       "      <td>...</td>\n",
       "      <td>0.4</td>\n",
       "      <td>0</td>\n",
       "      <td>0.2</td>\n",
       "      <td>0.0</td>\n",
       "      <td>4.4</td>\n",
       "      <td>17.530</td>\n",
       "      <td>0.4</td>\n",
       "      <td>0.5</td>\n",
       "      <td>3.5060</td>\n",
       "      <td>1</td>\n",
       "    </tr>\n",
       "    <tr>\n",
       "      <th>4</th>\n",
       "      <td>3.89</td>\n",
       "      <td>6</td>\n",
       "      <td>0.00</td>\n",
       "      <td>0.2</td>\n",
       "      <td>0.000</td>\n",
       "      <td>0.08</td>\n",
       "      <td>0.2</td>\n",
       "      <td>0.016</td>\n",
       "      <td>0.08</td>\n",
       "      <td>5.0</td>\n",
       "      <td>...</td>\n",
       "      <td>0.4</td>\n",
       "      <td>0</td>\n",
       "      <td>0.2</td>\n",
       "      <td>0.0</td>\n",
       "      <td>2.0</td>\n",
       "      <td>1.416</td>\n",
       "      <td>0.4</td>\n",
       "      <td>0.5</td>\n",
       "      <td>0.2832</td>\n",
       "      <td>0</td>\n",
       "    </tr>\n",
       "  </tbody>\n",
       "</table>\n",
       "<p>5 rows × 27 columns</p>\n",
       "</div>"
      ],
      "text/plain": [
       "   Sector_score  LOCATION_ID  PARA_A  Score_A  Risk_A  PARA_B  Score_B  \\\n",
       "0          3.89           23    4.18      0.6   2.508    2.50      0.2   \n",
       "1          3.89            6    0.00      0.2   0.000    4.83      0.2   \n",
       "2          3.89            6    0.51      0.2   0.102    0.23      0.2   \n",
       "3          3.89            6    0.00      0.2   0.000   10.80      0.6   \n",
       "4          3.89            6    0.00      0.2   0.000    0.08      0.2   \n",
       "\n",
       "   Risk_B  TOTAL  numbers  ...  RiSk_E  History  Prob  Risk_F  Score  \\\n",
       "0   0.500   6.68      5.0  ...     0.4        0   0.2     0.0    2.4   \n",
       "1   0.966   4.83      5.0  ...     0.4        0   0.2     0.0    2.0   \n",
       "2   0.046   0.74      5.0  ...     0.4        0   0.2     0.0    2.0   \n",
       "3   6.480  10.80      6.0  ...     0.4        0   0.2     0.0    4.4   \n",
       "4   0.016   0.08      5.0  ...     0.4        0   0.2     0.0    2.0   \n",
       "\n",
       "   Inherent_Risk  CONTROL_RISK  Detection_Risk  Audit_Risk  Risk  \n",
       "0          8.574           0.4             0.5      1.7148     1  \n",
       "1          2.554           0.4             0.5      0.5108     0  \n",
       "2          1.548           0.4             0.5      0.3096     0  \n",
       "3         17.530           0.4             0.5      3.5060     1  \n",
       "4          1.416           0.4             0.5      0.2832     0  \n",
       "\n",
       "[5 rows x 27 columns]"
      ]
     },
     "execution_count": 57,
     "metadata": {},
     "output_type": "execute_result"
    }
   ],
   "source": [
    "data = pd.read_csv(\"../datasets/audit_data/audit_risk.csv\")\n",
    "data.head()"
   ]
  },
  {
   "cell_type": "code",
   "execution_count": 58,
   "metadata": {},
   "outputs": [
    {
     "data": {
      "text/plain": [
       "(776, 27)"
      ]
     },
     "execution_count": 58,
     "metadata": {},
     "output_type": "execute_result"
    }
   ],
   "source": [
    "data.shape"
   ]
  },
  {
   "cell_type": "code",
   "execution_count": 59,
   "metadata": {},
   "outputs": [
    {
     "data": {
      "text/plain": [
       "array(['Sector_score', 'LOCATION_ID', 'PARA_A', 'Score_A', 'Risk_A',\n",
       "       'PARA_B', 'Score_B', 'Risk_B', 'TOTAL', 'numbers', 'Score_B.1',\n",
       "       'Risk_C', 'Money_Value', 'Score_MV', 'Risk_D', 'District_Loss',\n",
       "       'PROB', 'RiSk_E', 'History', 'Prob', 'Risk_F', 'Score',\n",
       "       'Inherent_Risk', 'CONTROL_RISK', 'Detection_Risk', 'Audit_Risk',\n",
       "       'Risk'], dtype=object)"
      ]
     },
     "execution_count": 59,
     "metadata": {},
     "output_type": "execute_result"
    }
   ],
   "source": [
    "data.columns.values"
   ]
  },
  {
   "cell_type": "markdown",
   "metadata": {},
   "source": [
    "### *hay 3 cadenas enves de valores numericos y un valor con NaN, hacemos limpieza de datos, podemos colocar 0 o el promedio de la columna"
   ]
  },
  {
   "cell_type": "code",
   "execution_count": 60,
   "metadata": {},
   "outputs": [
    {
     "data": {
      "text/plain": [
       "0    471\n",
       "1    305\n",
       "Name: Risk, dtype: int64"
      ]
     },
     "execution_count": 60,
     "metadata": {},
     "output_type": "execute_result"
    }
   ],
   "source": [
    "data[\"Risk\"].value_counts()#hay 471 empresas que no tienen rasgos fraudulentos y 305 que si los tienen"
   ]
  },
  {
   "cell_type": "markdown",
   "metadata": {},
   "source": [
    "# Dividimos las variables predictoras y la prediccion. (Pre Procesamiento)"
   ]
  },
  {
   "cell_type": "code",
   "execution_count": 61,
   "metadata": {},
   "outputs": [],
   "source": [
    "Y = ['Risk']\n",
    "X = ['Sector_score', 'LOCATION_ID', 'PARA_A', 'Score_A', 'Risk_A',\n",
    "       'PARA_B', 'Score_B', 'Risk_B', 'TOTAL', 'numbers', 'Score_B.1',\n",
    "       'Risk_C', 'Money_Value', 'Score_MV', 'Risk_D', 'District_Loss',\n",
    "       'PROB', 'RiSk_E', 'History', 'Prob', 'Risk_F', 'Score',\n",
    "       'Inherent_Risk', 'CONTROL_RISK', 'Detection_Risk', 'Audit_Risk']\n"
   ]
  },
  {
   "cell_type": "code",
   "execution_count": 62,
   "metadata": {},
   "outputs": [],
   "source": [
    "lr = LogisticRegression(solver='lbfgs',class_weight='balanced', max_iter=10000)"
   ]
  },
  {
   "cell_type": "markdown",
   "metadata": {},
   "source": [
    "## Escojemos las columnas mas importantes para la prediccion, yo escojo solo 8 enves de las 27 columnas en total"
   ]
  },
  {
   "cell_type": "code",
   "execution_count": 63,
   "metadata": {},
   "outputs": [],
   "source": [
    "rfe = RFE(lr, n_features_to_select=8)\n",
    "rfe = rfe.fit(data[X],data[Y].values.ravel())"
   ]
  },
  {
   "cell_type": "code",
   "execution_count": 64,
   "metadata": {},
   "outputs": [
    {
     "name": "stdout",
     "output_type": "stream",
     "text": [
      "[False False False False False False False False  True False False False\n",
      "  True False  True  True False  True False False False False  True  True\n",
      " False  True]\n"
     ]
    }
   ],
   "source": [
    "print(rfe.support_)"
   ]
  },
  {
   "cell_type": "code",
   "execution_count": 65,
   "metadata": {},
   "outputs": [
    {
     "name": "stdout",
     "output_type": "stream",
     "text": [
      "[11 10  3  6 12  4  7  5  1 14 15 13  1  9  1  1  8  1 16 19 18  2  1  1\n",
      " 17  1]\n"
     ]
    }
   ],
   "source": [
    "print(rfe.ranking_)#podemos ver que variables son importantes(1) para tomar en cuenta en el modelo"
   ]
  },
  {
   "cell_type": "code",
   "execution_count": 66,
   "metadata": {},
   "outputs": [
    {
     "data": {
      "text/plain": [
       "[('Sector_score', False, 11),\n",
       " ('LOCATION_ID', False, 10),\n",
       " ('PARA_A', False, 3),\n",
       " ('Score_A', False, 6),\n",
       " ('Risk_A', False, 12),\n",
       " ('PARA_B', False, 4),\n",
       " ('Score_B', False, 7),\n",
       " ('Risk_B', False, 5),\n",
       " ('TOTAL', True, 1),\n",
       " ('numbers', False, 14),\n",
       " ('Score_B.1', False, 15),\n",
       " ('Risk_C', False, 13),\n",
       " ('Money_Value', True, 1),\n",
       " ('Score_MV', False, 9),\n",
       " ('Risk_D', True, 1),\n",
       " ('District_Loss', True, 1),\n",
       " ('PROB', False, 8),\n",
       " ('RiSk_E', True, 1),\n",
       " ('History', False, 16),\n",
       " ('Prob', False, 19),\n",
       " ('Risk_F', False, 18),\n",
       " ('Score', False, 2),\n",
       " ('Inherent_Risk', True, 1),\n",
       " ('CONTROL_RISK', True, 1),\n",
       " ('Detection_Risk', False, 17),\n",
       " ('Audit_Risk', True, 1)]"
      ]
     },
     "execution_count": 66,
     "metadata": {},
     "output_type": "execute_result"
    }
   ],
   "source": [
    "z=zip(X,rfe.support_, rfe.ranking_)\n",
    "list(z)"
   ]
  },
  {
   "cell_type": "code",
   "execution_count": 50,
   "metadata": {},
   "outputs": [],
   "source": [
    "cols=['TOTAL','Money_Value','Risk_D','District_Loss','RiSk_E','Inherent_Risk','CONTROL_RISK','Audit_Risk']#escojemos las variables nesesarias para tomar la mejor PREDICCION"
   ]
  },
  {
   "cell_type": "code",
   "execution_count": 69,
   "metadata": {},
   "outputs": [],
   "source": [
    "X = data[cols]\n",
    "Y =data[\"Risk\"]"
   ]
  },
  {
   "cell_type": "markdown",
   "metadata": {},
   "source": [
    "### Implementación del modelo en Python con scikit-learn"
   ]
  },
  {
   "cell_type": "code",
   "execution_count": 70,
   "metadata": {},
   "outputs": [
    {
     "name": "stderr",
     "output_type": "stream",
     "text": [
      "C:\\ProgramData\\Anaconda3\\lib\\site-packages\\sklearn\\linear_model\\logistic.py:432: FutureWarning: Default solver will be changed to 'lbfgs' in 0.22. Specify a solver to silence this warning.\n",
      "  FutureWarning)\n"
     ]
    },
    {
     "data": {
      "text/plain": [
       "LogisticRegression(C=1.0, class_weight=None, dual=False, fit_intercept=True,\n",
       "                   intercept_scaling=1, l1_ratio=None, max_iter=100,\n",
       "                   multi_class='warn', n_jobs=None, penalty='l2',\n",
       "                   random_state=None, solver='warn', tol=0.0001, verbose=0,\n",
       "                   warm_start=False)"
      ]
     },
     "execution_count": 70,
     "metadata": {},
     "output_type": "execute_result"
    }
   ],
   "source": [
    "logit_model = linear_model.LogisticRegression()\n",
    "logit_model.fit(X,Y)"
   ]
  },
  {
   "cell_type": "code",
   "execution_count": 71,
   "metadata": {},
   "outputs": [
    {
     "data": {
      "text/plain": [
       "0.9948453608247423"
      ]
     },
     "execution_count": 71,
     "metadata": {},
     "output_type": "execute_result"
    }
   ],
   "source": [
    "logit_model.score(X,Y)#la r**2 es muy bueno se acerca a 1"
   ]
  },
  {
   "cell_type": "code",
   "execution_count": 74,
   "metadata": {},
   "outputs": [
    {
     "data": {
      "text/html": [
       "<div>\n",
       "<style scoped>\n",
       "    .dataframe tbody tr th:only-of-type {\n",
       "        vertical-align: middle;\n",
       "    }\n",
       "\n",
       "    .dataframe tbody tr th {\n",
       "        vertical-align: top;\n",
       "    }\n",
       "\n",
       "    .dataframe thead th {\n",
       "        text-align: right;\n",
       "    }\n",
       "</style>\n",
       "<table border=\"1\" class=\"dataframe\">\n",
       "  <thead>\n",
       "    <tr style=\"text-align: right;\">\n",
       "      <th></th>\n",
       "      <th>0</th>\n",
       "      <th>1</th>\n",
       "    </tr>\n",
       "  </thead>\n",
       "  <tbody>\n",
       "    <tr>\n",
       "      <th>0</th>\n",
       "      <td>TOTAL</td>\n",
       "      <td>[0.6568779666843574]</td>\n",
       "    </tr>\n",
       "    <tr>\n",
       "      <th>1</th>\n",
       "      <td>Money_Value</td>\n",
       "      <td>[0.03381724179395011]</td>\n",
       "    </tr>\n",
       "    <tr>\n",
       "      <th>2</th>\n",
       "      <td>Risk_D</td>\n",
       "      <td>[0.9725578269667436]</td>\n",
       "    </tr>\n",
       "    <tr>\n",
       "      <th>3</th>\n",
       "      <td>District_Loss</td>\n",
       "      <td>[0.6203595711227479]</td>\n",
       "    </tr>\n",
       "    <tr>\n",
       "      <th>4</th>\n",
       "      <td>RiSk_E</td>\n",
       "      <td>[0.14225976365385265]</td>\n",
       "    </tr>\n",
       "    <tr>\n",
       "      <th>5</th>\n",
       "      <td>Inherent_Risk</td>\n",
       "      <td>[-0.6049914607276792]</td>\n",
       "    </tr>\n",
       "    <tr>\n",
       "      <th>6</th>\n",
       "      <td>CONTROL_RISK</td>\n",
       "      <td>[0.11314381099715838]</td>\n",
       "    </tr>\n",
       "    <tr>\n",
       "      <th>7</th>\n",
       "      <td>Audit_Risk</td>\n",
       "      <td>[3.52850580313835]</td>\n",
       "    </tr>\n",
       "  </tbody>\n",
       "</table>\n",
       "</div>"
      ],
      "text/plain": [
       "               0                      1\n",
       "0          TOTAL   [0.6568779666843574]\n",
       "1    Money_Value  [0.03381724179395011]\n",
       "2         Risk_D   [0.9725578269667436]\n",
       "3  District_Loss   [0.6203595711227479]\n",
       "4         RiSk_E  [0.14225976365385265]\n",
       "5  Inherent_Risk  [-0.6049914607276792]\n",
       "6   CONTROL_RISK  [0.11314381099715838]\n",
       "7     Audit_Risk     [3.52850580313835]"
      ]
     },
     "execution_count": 74,
     "metadata": {},
     "output_type": "execute_result"
    }
   ],
   "source": [
    "pd.DataFrame(list(zip(X.columns, np.transpose(logit_model.coef_))))\n",
    "#nos conviene tomar en cuenta la columna Risk_D y Audit_Risk para saber si es una empresa fraudulenta\n",
    "#la columna Inherent_Risk no aporta nada al modelo, de lo contrario si tomamos en cuenta Inherent_Risk nos hara variar mas en el momento de tomar la desicion de que si la empresa es o no fraudulenta."
   ]
  },
  {
   "cell_type": "markdown",
   "metadata": {},
   "source": [
    "## Validación del modelo logístico"
   ]
  },
  {
   "cell_type": "code",
   "execution_count": 80,
   "metadata": {},
   "outputs": [],
   "source": [
    "X_train, X_test, Y_train, Y_test = train_test_split(X,Y, test_size = 0.2, random_state=0)#tomamos el 20% para test y el 80% para ENTRENAR"
   ]
  },
  {
   "cell_type": "code",
   "execution_count": 81,
   "metadata": {},
   "outputs": [
    {
     "name": "stderr",
     "output_type": "stream",
     "text": [
      "C:\\ProgramData\\Anaconda3\\lib\\site-packages\\sklearn\\linear_model\\logistic.py:432: FutureWarning: Default solver will be changed to 'lbfgs' in 0.22. Specify a solver to silence this warning.\n",
      "  FutureWarning)\n"
     ]
    },
    {
     "data": {
      "text/plain": [
       "LogisticRegression(C=1.0, class_weight=None, dual=False, fit_intercept=True,\n",
       "                   intercept_scaling=1, l1_ratio=None, max_iter=100,\n",
       "                   multi_class='warn', n_jobs=None, penalty='l2',\n",
       "                   random_state=None, solver='warn', tol=0.0001, verbose=0,\n",
       "                   warm_start=False)"
      ]
     },
     "execution_count": 81,
     "metadata": {},
     "output_type": "execute_result"
    }
   ],
   "source": [
    "lm = linear_model.LogisticRegression()\n",
    "lm.fit(X_train, Y_train)"
   ]
  },
  {
   "cell_type": "code",
   "execution_count": 83,
   "metadata": {},
   "outputs": [
    {
     "data": {
      "text/plain": [
       "array([[1.49947610e-10, 1.00000000e+00],\n",
       "       [0.00000000e+00, 1.00000000e+00],\n",
       "       [9.89874673e-01, 1.01253274e-02],\n",
       "       [9.84852109e-01, 1.51478907e-02],\n",
       "       [1.58482453e-03, 9.98415175e-01],\n",
       "       [9.50604032e-01, 4.93959680e-02],\n",
       "       [9.82647557e-01, 1.73524429e-02],\n",
       "       [9.05226101e-01, 9.47738989e-02],\n",
       "       [9.78238992e-01, 2.17610082e-02],\n",
       "       [9.90011019e-01, 9.98898084e-03],\n",
       "       [0.00000000e+00, 1.00000000e+00],\n",
       "       [0.00000000e+00, 1.00000000e+00],\n",
       "       [9.86365089e-01, 1.36349107e-02],\n",
       "       [9.90284015e-01, 9.71598501e-03],\n",
       "       [0.00000000e+00, 1.00000000e+00],\n",
       "       [9.85334659e-01, 1.46653408e-02],\n",
       "       [9.79898098e-01, 2.01019025e-02],\n",
       "       [1.11093779e-04, 9.99888906e-01],\n",
       "       [3.00632474e-04, 9.99699368e-01],\n",
       "       [1.37678793e-01, 8.62321207e-01],\n",
       "       [9.91541998e-01, 8.45800151e-03],\n",
       "       [2.94143513e-01, 7.05856487e-01],\n",
       "       [9.90934603e-01, 9.06539745e-03],\n",
       "       [9.90216467e-01, 9.78353341e-03],\n",
       "       [1.90680804e-10, 1.00000000e+00],\n",
       "       [9.82407341e-01, 1.75926590e-02],\n",
       "       [0.00000000e+00, 1.00000000e+00],\n",
       "       [9.76216222e-01, 2.37837778e-02],\n",
       "       [2.20647296e-01, 7.79352704e-01],\n",
       "       [9.81237638e-01, 1.87623624e-02],\n",
       "       [9.91541998e-01, 8.45800151e-03],\n",
       "       [9.78770780e-01, 2.12292203e-02],\n",
       "       [9.91541998e-01, 8.45800151e-03],\n",
       "       [0.00000000e+00, 1.00000000e+00],\n",
       "       [8.97343276e-01, 1.02656724e-01],\n",
       "       [9.89730432e-01, 1.02695677e-02],\n",
       "       [9.91541998e-01, 8.45800151e-03],\n",
       "       [9.88607035e-01, 1.13929647e-02],\n",
       "       [5.26115310e-01, 4.73884690e-01],\n",
       "       [1.34165374e-08, 9.99999987e-01],\n",
       "       [9.91541998e-01, 8.45800151e-03],\n",
       "       [0.00000000e+00, 1.00000000e+00],\n",
       "       [2.78794702e-01, 7.21205298e-01],\n",
       "       [4.93464359e-02, 9.50653564e-01],\n",
       "       [5.20455126e-06, 9.99994795e-01],\n",
       "       [9.90079972e-01, 9.92002818e-03],\n",
       "       [9.90493518e-01, 9.50648197e-03],\n",
       "       [1.36659619e-07, 9.99999863e-01],\n",
       "       [9.74010969e-01, 2.59890313e-02],\n",
       "       [2.89768209e-13, 1.00000000e+00],\n",
       "       [0.00000000e+00, 1.00000000e+00],\n",
       "       [9.68746232e-01, 3.12537681e-02],\n",
       "       [9.68897158e-01, 3.11028421e-02],\n",
       "       [9.59678333e-01, 4.03216672e-02],\n",
       "       [9.81800784e-01, 1.81992158e-02],\n",
       "       [2.39384118e-06, 9.99997606e-01],\n",
       "       [9.05226101e-01, 9.47738989e-02],\n",
       "       [7.57860451e-01, 2.42139549e-01],\n",
       "       [8.71373719e-01, 1.28626281e-01],\n",
       "       [7.15076278e-01, 2.84923722e-01],\n",
       "       [9.85690488e-01, 1.43095118e-02],\n",
       "       [9.88685569e-01, 1.13144312e-02],\n",
       "       [0.00000000e+00, 1.00000000e+00],\n",
       "       [3.63408333e-01, 6.36591667e-01],\n",
       "       [9.87274718e-01, 1.27252818e-02],\n",
       "       [9.69195786e-01, 3.08042145e-02],\n",
       "       [9.89587228e-01, 1.04127720e-02],\n",
       "       [9.64023799e-01, 3.59762006e-02],\n",
       "       [9.82607262e-01, 1.73927384e-02],\n",
       "       [5.74366642e-01, 4.25633358e-01],\n",
       "       [9.83349035e-01, 1.66509652e-02],\n",
       "       [7.61210828e-01, 2.38789172e-01],\n",
       "       [7.99803888e-07, 9.99999200e-01],\n",
       "       [0.00000000e+00, 1.00000000e+00],\n",
       "       [9.91498371e-01, 8.50162884e-03],\n",
       "       [9.87097716e-01, 1.29022835e-02],\n",
       "       [9.83118363e-01, 1.68816374e-02],\n",
       "       [9.90216467e-01, 9.78353341e-03],\n",
       "       [9.57076907e-01, 4.29230925e-02],\n",
       "       [0.00000000e+00, 1.00000000e+00],\n",
       "       [9.87097716e-01, 1.29022835e-02],\n",
       "       [9.91182582e-01, 8.81741806e-03],\n",
       "       [4.57400172e-05, 9.99954260e-01],\n",
       "       [9.73562201e-01, 2.64377992e-02],\n",
       "       [2.28313812e-10, 1.00000000e+00],\n",
       "       [9.89498547e-01, 1.05014530e-02],\n",
       "       [9.85306054e-01, 1.46939460e-02],\n",
       "       [9.37495330e-01, 6.25046704e-02],\n",
       "       [9.89856946e-01, 1.01430536e-02],\n",
       "       [9.41747900e-01, 5.82521004e-02],\n",
       "       [9.91541998e-01, 8.45800151e-03],\n",
       "       [0.00000000e+00, 1.00000000e+00],\n",
       "       [9.66476791e-01, 3.35232087e-02],\n",
       "       [9.87144220e-01, 1.28557803e-02],\n",
       "       [9.51430111e-01, 4.85698894e-02],\n",
       "       [8.78166428e-10, 9.99999999e-01],\n",
       "       [9.89552329e-01, 1.04476714e-02],\n",
       "       [9.91364144e-01, 8.63585644e-03],\n",
       "       [9.90614891e-01, 9.38510884e-03],\n",
       "       [0.00000000e+00, 1.00000000e+00],\n",
       "       [0.00000000e+00, 1.00000000e+00],\n",
       "       [0.00000000e+00, 1.00000000e+00],\n",
       "       [9.84774632e-01, 1.52253679e-02],\n",
       "       [9.80631980e-01, 1.93680204e-02],\n",
       "       [4.93750249e-04, 9.99506250e-01],\n",
       "       [9.69533018e-01, 3.04669817e-02],\n",
       "       [9.82345592e-01, 1.76544076e-02],\n",
       "       [9.91541998e-01, 8.45800151e-03],\n",
       "       [9.85086156e-01, 1.49138440e-02],\n",
       "       [9.91541998e-01, 8.45800151e-03],\n",
       "       [7.66394428e-04, 9.99233606e-01],\n",
       "       [9.90216467e-01, 9.78353341e-03],\n",
       "       [9.85886519e-01, 1.41134808e-02],\n",
       "       [9.83463206e-01, 1.65367939e-02],\n",
       "       [9.31808099e-01, 6.81919007e-02],\n",
       "       [0.00000000e+00, 1.00000000e+00],\n",
       "       [6.12142954e-05, 9.99938786e-01],\n",
       "       [9.60610639e-01, 3.93893608e-02],\n",
       "       [2.82864123e-02, 9.71713588e-01],\n",
       "       [2.03363992e-11, 1.00000000e+00],\n",
       "       [9.83576608e-01, 1.64233923e-02],\n",
       "       [9.74276195e-01, 2.57238054e-02],\n",
       "       [4.11920276e-02, 9.58807972e-01],\n",
       "       [9.81606105e-01, 1.83938948e-02],\n",
       "       [9.86697093e-01, 1.33029074e-02],\n",
       "       [9.91121225e-01, 8.87877537e-03],\n",
       "       [1.79833926e-12, 1.00000000e+00],\n",
       "       [3.48461507e-03, 9.96515385e-01],\n",
       "       [9.89359138e-01, 1.06408622e-02],\n",
       "       [1.22782513e-02, 9.87721749e-01],\n",
       "       [9.65970018e-01, 3.40299818e-02],\n",
       "       [9.80295643e-01, 1.97043566e-02],\n",
       "       [9.87008307e-01, 1.29916934e-02],\n",
       "       [0.00000000e+00, 1.00000000e+00],\n",
       "       [0.00000000e+00, 1.00000000e+00],\n",
       "       [9.73221372e-01, 2.67786282e-02],\n",
       "       [9.88763567e-01, 1.12364330e-02],\n",
       "       [9.77481716e-01, 2.25182839e-02],\n",
       "       [9.91243519e-01, 8.75648102e-03],\n",
       "       [5.10702591e-15, 1.00000000e+00],\n",
       "       [0.00000000e+00, 1.00000000e+00],\n",
       "       [9.90284015e-01, 9.71598501e-03],\n",
       "       [2.56202111e-04, 9.99743798e-01],\n",
       "       [9.91541998e-01, 8.45800151e-03],\n",
       "       [0.00000000e+00, 1.00000000e+00],\n",
       "       [0.00000000e+00, 1.00000000e+00],\n",
       "       [0.00000000e+00, 1.00000000e+00],\n",
       "       [1.08855473e-07, 9.99999891e-01],\n",
       "       [9.91541998e-01, 8.45800151e-03],\n",
       "       [6.08203573e-01, 3.91796427e-01],\n",
       "       [9.80836247e-01, 1.91637526e-02],\n",
       "       [9.01549799e-01, 9.84502010e-02],\n",
       "       [9.09596633e-01, 9.04033673e-02],\n",
       "       [9.57587130e-01, 4.24128699e-02],\n",
       "       [0.00000000e+00, 1.00000000e+00],\n",
       "       [9.85837020e-01, 1.41629804e-02]])"
      ]
     },
     "execution_count": 83,
     "metadata": {},
     "output_type": "execute_result"
    }
   ],
   "source": [
    "probs = lm.predict_proba(X_test)\n",
    "probs"
   ]
  },
  {
   "cell_type": "code",
   "execution_count": 84,
   "metadata": {},
   "outputs": [],
   "source": [
    "prediction = lm.predict(X_test)"
   ]
  },
  {
   "cell_type": "code",
   "execution_count": 93,
   "metadata": {},
   "outputs": [
    {
     "data": {
      "text/plain": [
       "array([1, 1, 0, 0, 1, 0, 0, 0, 0, 0, 1, 1, 0, 0, 1, 0, 0, 1, 1, 1, 0, 1,\n",
       "       0, 0, 1, 0, 1, 0, 1, 0, 0, 0, 0, 1, 0, 0, 0, 0, 0, 1, 0, 1, 1, 1,\n",
       "       1, 0, 0, 1, 0, 1, 1, 0, 0, 0, 0, 1, 0, 0, 0, 0, 0, 0, 1, 1, 0, 0,\n",
       "       0, 0, 0, 0, 0, 0, 1, 1, 0, 0, 0, 0, 0, 1, 0, 0, 1, 0, 1, 0, 0, 0,\n",
       "       0, 0, 0, 1, 0, 0, 0, 1, 0, 0, 0, 1, 1, 1, 0, 0, 1, 0, 0, 0, 0, 0,\n",
       "       1, 0, 0, 0, 0, 1, 1, 0, 1, 1, 0, 0, 1, 0, 0, 0, 1, 1, 0, 1, 0, 0,\n",
       "       0, 1, 1, 0, 0, 0, 0, 1, 1, 0, 1, 0, 1, 1, 1, 1, 0, 0, 0, 0, 0, 0,\n",
       "       1, 0], dtype=int64)"
      ]
     },
     "execution_count": 93,
     "metadata": {},
     "output_type": "execute_result"
    }
   ],
   "source": [
    "prediction# Por DEFECTO si el valor es menor a 0.5 se coloca 0 y si el mayor a 0.5 se coloca 1"
   ]
  },
  {
   "cell_type": "code",
   "execution_count": 100,
   "metadata": {},
   "outputs": [
    {
     "data": {
      "text/html": [
       "<div>\n",
       "<style scoped>\n",
       "    .dataframe tbody tr th:only-of-type {\n",
       "        vertical-align: middle;\n",
       "    }\n",
       "\n",
       "    .dataframe tbody tr th {\n",
       "        vertical-align: top;\n",
       "    }\n",
       "\n",
       "    .dataframe thead th {\n",
       "        text-align: right;\n",
       "    }\n",
       "</style>\n",
       "<table border=\"1\" class=\"dataframe\">\n",
       "  <thead>\n",
       "    <tr style=\"text-align: right;\">\n",
       "      <th></th>\n",
       "      <th>0</th>\n",
       "      <th>prediction</th>\n",
       "    </tr>\n",
       "  </thead>\n",
       "  <tbody>\n",
       "    <tr>\n",
       "      <th>0</th>\n",
       "      <td>1.000000</td>\n",
       "      <td>1</td>\n",
       "    </tr>\n",
       "    <tr>\n",
       "      <th>1</th>\n",
       "      <td>1.000000</td>\n",
       "      <td>1</td>\n",
       "    </tr>\n",
       "    <tr>\n",
       "      <th>2</th>\n",
       "      <td>0.010125</td>\n",
       "      <td>0</td>\n",
       "    </tr>\n",
       "    <tr>\n",
       "      <th>3</th>\n",
       "      <td>0.015148</td>\n",
       "      <td>0</td>\n",
       "    </tr>\n",
       "    <tr>\n",
       "      <th>4</th>\n",
       "      <td>0.998415</td>\n",
       "      <td>1</td>\n",
       "    </tr>\n",
       "  </tbody>\n",
       "</table>\n",
       "</div>"
      ],
      "text/plain": [
       "          0  prediction\n",
       "0  1.000000           1\n",
       "1  1.000000           1\n",
       "2  0.010125           0\n",
       "3  0.015148           0\n",
       "4  0.998415           1"
      ]
     },
     "execution_count": 100,
     "metadata": {},
     "output_type": "execute_result"
    }
   ],
   "source": [
    "prob = probs[:,1]\n",
    "prob_df = pd.DataFrame(prob)\n",
    "threshold = 0.1#colocamos el rango a 0.1 enves de 0.5 como arriba, pero vemos que el resultado no cambia, no importa si es 0.1 o 0.5\n",
    "prob_df[\"prediction\"] = np.where(prob_df[0]>threshold, 1, 0)\n",
    "prob_df.head()"
   ]
  },
  {
   "cell_type": "code",
   "execution_count": 101,
   "metadata": {},
   "outputs": [
    {
     "data": {
      "text/html": [
       "<div>\n",
       "<style scoped>\n",
       "    .dataframe tbody tr th:only-of-type {\n",
       "        vertical-align: middle;\n",
       "    }\n",
       "\n",
       "    .dataframe tbody tr th {\n",
       "        vertical-align: top;\n",
       "    }\n",
       "\n",
       "    .dataframe thead th {\n",
       "        text-align: right;\n",
       "    }\n",
       "</style>\n",
       "<table border=\"1\" class=\"dataframe\">\n",
       "  <thead>\n",
       "    <tr style=\"text-align: right;\">\n",
       "      <th>col_0</th>\n",
       "      <th>count</th>\n",
       "    </tr>\n",
       "    <tr>\n",
       "      <th>prediction</th>\n",
       "      <th></th>\n",
       "    </tr>\n",
       "  </thead>\n",
       "  <tbody>\n",
       "    <tr>\n",
       "      <th>0</th>\n",
       "      <td>93</td>\n",
       "    </tr>\n",
       "    <tr>\n",
       "      <th>1</th>\n",
       "      <td>63</td>\n",
       "    </tr>\n",
       "  </tbody>\n",
       "</table>\n",
       "</div>"
      ],
      "text/plain": [
       "col_0       count\n",
       "prediction       \n",
       "0              93\n",
       "1              63"
      ]
     },
     "execution_count": 101,
     "metadata": {},
     "output_type": "execute_result"
    }
   ],
   "source": [
    "pd.crosstab(prob_df.prediction, columns=\"count\")"
   ]
  },
  {
   "cell_type": "code",
   "execution_count": 102,
   "metadata": {},
   "outputs": [
    {
     "name": "stdout",
     "output_type": "stream",
     "text": [
      "[[100   1]\n",
      " [  1  54]]\n"
     ]
    }
   ],
   "source": [
    "\n",
    "print(confusion_matrix(Y_test,prediction))"
   ]
  },
  {
   "cell_type": "code",
   "execution_count": 103,
   "metadata": {},
   "outputs": [],
   "source": [
    "#solo 1 de cada prediccion esta erroneo, el modelo esta correctamente validado"
   ]
  },
  {
   "cell_type": "code",
   "execution_count": null,
   "metadata": {},
   "outputs": [],
   "source": []
  }
 ],
 "metadata": {
  "kernelspec": {
   "display_name": "Python 3",
   "language": "python",
   "name": "python3"
  },
  "language_info": {
   "codemirror_mode": {
    "name": "ipython",
    "version": 3
   },
   "file_extension": ".py",
   "mimetype": "text/x-python",
   "name": "python",
   "nbconvert_exporter": "python",
   "pygments_lexer": "ipython3",
   "version": "3.7.3"
  }
 },
 "nbformat": 4,
 "nbformat_minor": 2
}
